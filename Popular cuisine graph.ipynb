{
 "cells": [
  {
   "cell_type": "code",
   "execution_count": 14,
   "metadata": {
    "collapsed": false
   },
   "outputs": [],
   "source": [
    "from pygal.maps.world import World\n",
    "\n",
    "worldmap_chart = World()"
   ]
  },
  {
   "cell_type": "code",
   "execution_count": 8,
   "metadata": {
    "collapsed": true
   },
   "outputs": [],
   "source": [
    "import pandas as pd\n",
    "df = pd.read_csv('zomato.csv', index_col=0)"
   ]
  },
  {
   "cell_type": "code",
   "execution_count": 9,
   "metadata": {
    "collapsed": true
   },
   "outputs": [],
   "source": [
    "country_map = {'1':'India',\n",
    "'14':'Australia',\n",
    "'30':'Brazil',\n",
    "'37':'Canada',\n",
    "'94':'Indonesia',\n",
    "'148':'New Zealand',\n",
    "'162':'Phillipines',\n",
    "'166':'Qatar',\n",
    "'184':'Singapore',\n",
    "'189':'South Africa',\n",
    "'191':'Sri Lanka',\n",
    "'208':'Turkey',\n",
    "'214':'UAE',\n",
    "'215':'United Kingdom',\n",
    "'216':'United States'}\n",
    "\n",
    "df['country'] = df['Country Code'].apply(lambda x: country_map[str(x)])"
   ]
  },
  {
   "cell_type": "code",
   "execution_count": 10,
   "metadata": {
    "collapsed": true
   },
   "outputs": [],
   "source": [
    "df['primary_cuisine'] = df['Cuisines'].apply(lambda x: str(x).split(',')[0])\n",
    "popular_cusines = pd.DataFrame(df.groupby(['country', 'primary_cuisine']).size()).reset_index()\n",
    "popular_cusines.columns = ['country', 'cuisine', 'count']"
   ]
  },
  {
   "cell_type": "code",
   "execution_count": 11,
   "metadata": {
    "collapsed": true
   },
   "outputs": [],
   "source": [
    "popular_cusines = popular_cusines.sort_values(by=['country', 'count'], ascending=False)"
   ]
  },
  {
   "cell_type": "code",
   "execution_count": 12,
   "metadata": {
    "collapsed": true
   },
   "outputs": [],
   "source": [
    "cuisine_country_map = {\n",
    "    'Mexican' : ['us'],\n",
    "    'Indian' : ['gb', 'ae'],\n",
    "    'Cafe' : ['tr', 'za', 'ph', 'nz', 'id', 'au'],\n",
    "    'Asian' : ['ca'],\n",
    "    'American' : ['lk', 'sg'],\n",
    "    'Chinese' : ['in'],\n",
    "    'Italian' : ['br']\n",
    "}"
   ]
  },
  {
   "cell_type": "code",
   "execution_count": 16,
   "metadata": {
    "collapsed": true
   },
   "outputs": [],
   "source": [
    "worldmap_chart.title = 'Popular non-local cuisine per country'"
   ]
  },
  {
   "cell_type": "code",
   "execution_count": 17,
   "metadata": {
    "collapsed": false
   },
   "outputs": [],
   "source": [
    "for k, v in cuisine_country_map.items():\n",
    "    worldmap_chart.add(k,v)"
   ]
  },
  {
   "cell_type": "code",
   "execution_count": 18,
   "metadata": {
    "collapsed": true
   },
   "outputs": [],
   "source": [
    "worldmap_chart.render_to_file('popular_cuisine.svg')"
   ]
  },
  {
   "cell_type": "code",
   "execution_count": 13,
   "metadata": {
    "collapsed": false
   },
   "outputs": [],
   "source": [
    "# worldmap_chart = pygal.maps.world.World()\n",
    "worldmap_chart.title = 'Some countries'\n",
    "worldmap_chart.add('Mexican', ['us'])\n",
    "worldmap_chart.add('Indian', ['gb', 'ae'])\n",
    "worldmap_chart.add('Cafe', ['tr', 'za', 'ph', 'nz', 'id', 'au'])\n",
    "worldmap_chart.add('Asian', ['ca'])\n",
    "worldmap_chart.add('American', ['lk', 'sg'])\n",
    "worldmap_chart.add('Chinese', ['in'])\n",
    "worldmap_chart.add('Italian', ['br'])\n",
    "worldmap_chart.render_to_file('map2.svg')"
   ]
  },
  {
   "cell_type": "code",
   "execution_count": null,
   "metadata": {
    "collapsed": true
   },
   "outputs": [],
   "source": []
  }
 ],
 "metadata": {
  "kernelspec": {
   "display_name": "Python 2",
   "language": "python",
   "name": "python2"
  },
  "language_info": {
   "codemirror_mode": {
    "name": "ipython",
    "version": 2
   },
   "file_extension": ".py",
   "mimetype": "text/x-python",
   "name": "python",
   "nbconvert_exporter": "python",
   "pygments_lexer": "ipython2",
   "version": "2.7.13"
  }
 },
 "nbformat": 4,
 "nbformat_minor": 2
}
